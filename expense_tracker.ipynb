{
 "cells": [
  {
   "cell_type": "markdown",
   "id": "5583812a",
   "metadata": {},
   "source": [
    "Import Libaries"
   ]
  },
  {
   "cell_type": "code",
   "execution_count": 3,
   "id": "867729e5",
   "metadata": {},
   "outputs": [
    {
     "ename": "ModuleNotFoundError",
     "evalue": "No module named 'pandas'",
     "output_type": "error",
     "traceback": [
      "\u001b[31m---------------------------------------------------------------------------\u001b[39m",
      "\u001b[31mModuleNotFoundError\u001b[39m                       Traceback (most recent call last)",
      "\u001b[36mCell\u001b[39m\u001b[36m \u001b[39m\u001b[32mIn[3]\u001b[39m\u001b[32m, line 1\u001b[39m\n\u001b[32m----> \u001b[39m\u001b[32m1\u001b[39m \u001b[38;5;28;01mimport\u001b[39;00m\u001b[38;5;250m \u001b[39m\u001b[34;01mpandas\u001b[39;00m\u001b[38;5;250m \u001b[39m\u001b[38;5;28;01mas\u001b[39;00m\u001b[38;5;250m \u001b[39m\u001b[34;01mpd\u001b[39;00m\n\u001b[32m      2\u001b[39m \u001b[38;5;28;01mimport\u001b[39;00m\u001b[38;5;250m \u001b[39m\u001b[34;01mnumpy\u001b[39;00m\u001b[38;5;250m \u001b[39m\u001b[38;5;28;01mas\u001b[39;00m\u001b[38;5;250m \u001b[39m\u001b[34;01mnp\u001b[39;00m\n\u001b[32m      3\u001b[39m \u001b[38;5;28;01mimport\u001b[39;00m\u001b[38;5;250m \u001b[39m\u001b[34;01mmatplotlib\u001b[39;00m\u001b[34;01m.\u001b[39;00m\u001b[34;01mpyplot\u001b[39;00m\u001b[38;5;250m \u001b[39m\u001b[38;5;28;01mas\u001b[39;00m\u001b[38;5;250m \u001b[39m\u001b[34;01mplt\u001b[39;00m\n",
      "\u001b[31mModuleNotFoundError\u001b[39m: No module named 'pandas'"
     ]
    }
   ],
   "source": [
    "import pandas as pd\n",
    "import numpy as np\n",
    "import matplotlib.pyplot as plt\n",
    "from tabulate import tabulate\n"
   ]
  },
  {
   "cell_type": "markdown",
   "id": "5a2dfed7",
   "metadata": {},
   "source": [
    "Import DataSet"
   ]
  },
  {
   "cell_type": "code",
   "execution_count": null,
   "id": "29369dd5",
   "metadata": {},
   "outputs": [],
   "source": [
    "file_path = r'D:\\Documents\\data_csv.csv' \n",
    "df = pd.read_csv(file_path)"
   ]
  },
  {
   "cell_type": "code",
   "execution_count": null,
   "id": "3ca0c7f8",
   "metadata": {},
   "outputs": [],
   "source": [
    "df = df[df['Month'].str.lower() != 'budget']\n",
    "\n",
    "for col in df.columns[1:]:\n",
    "    try:\n",
    "        df[col] = df[col].str.replace(',', '').astype(float)  \n",
    "    except ValueError:\n",
    "        print(f\"Error converting column '{col}' to numbers. Ensure all values are valid.\")\n",
    "        continue\n",
    "6\n",
    "if df.shape[1] <= 1:\n",
    "    print(\"No valid columns for expenses after 'Month'.\")\n",
    "else:\n",
    "    people = df.columns[1:]\n",
    "\n",
    "    budget_value = 300000\n",
    "\n",
    "    total_expenses = df.iloc[:, 1:].sum(axis=0)\n",
    "    average_expenses = df.iloc[:, 1:].mean(axis=0)\n",
    "    savings = budget_value - total_expenses\n",
    "\n",
    "    financial_summary = {\n",
    "        'Person': people,\n",
    "        'Total Expenses (₹)': total_expenses,\n",
    "        'Average Expenses (₹)': average_expenses,\n",
    "        'Savings (₹)': savings\n",
    "    }\n",
    "\n",
    "    financial_summary_table = list(zip(financial_summary['Person'], financial_summary['Total Expenses (₹)'],\n",
    "                                       financial_summary['Average Expenses (₹)'], financial_summary['Savings (₹)']))\n",
    "\n",
    "    while True:\n",
    "        print(\"\\n--- Financial Summary ---\")\n",
    "        print(\"1. Display Pie Chart (Total Expenses for All Months)\")\n",
    "        print(\"2. Display Bar Chart (Total Expenses for All Months)\")\n",
    "        print(\"3. Display Pie Chart for a Person (Excluding Total and Average)\")\n",
    "        print(\"4. Display Bar Chart for a Person (Excluding Total and Average)\")\n",
    "        print(\"5. Display Financial Summary Table\")\n",
    "        print(\"6. Exit\")\n",
    "        choice = input(\"Enter your choice (1/2/3/4/5/6): \")\n",
    "\n",
    "        if choice == '1':\n",
    "            plt.figure(figsize=(8, 8))\n",
    "            plt.pie(total_expenses, labels=people, autopct='%1.1f%%', startangle=140, colors=plt.cm.Paired.colors)\n",
    "            plt.title('Total Expenses Distribution')\n",
    "            plt.show()\n",
    "\n",
    "        elif choice == '2':\n",
    "            plt.figure(figsize=(10, 6))\n",
    "            plt.bar(people, total_expenses, color='red', label='Total Expenses')\n",
    "            plt.xlabel('People')\n",
    "            plt.ylabel('Amount (₹)')\n",
    "            plt.title('Total Expenses Bar Chart')\n",
    "            plt.legend()\n",
    "            plt.show()\n",
    "\n",
    "        elif choice == '3':\n",
    "            person = input(f\"Enter a person name from {', '.join(people)}: \").strip()\n",
    "            if person in people:\n",
    "                person_expenses = df[person].dropna()\n",
    "                person_months = df['Month'].iloc[person_expenses.index] \n",
    "\n",
    "                if person_expenses.empty:\n",
    "                    print(\"No valid expenses data available for this person.\")\n",
    "                else:\n",
    "                    plt.figure(figsize=(8, 8))\n",
    "                    plt.pie(person_expenses, labels=person_months, autopct='%1.1f%%', startangle=140, colors=plt.cm.Paired.colors)\n",
    "                    plt.title(f'{person} - Expenses Distribution (Excluding Total and Average)')\n",
    "                    plt.show()\n",
    "            else:\n",
    "                print(\"Invalid person name! Please enter a valid name.\")\n",
    "\n",
    "        elif choice == '4':\n",
    "            person = input(f\"Enter a person name from {', '.join(people)}: \").strip()\n",
    "            if person in people:\n",
    "                person_expenses = df[person].dropna()  \n",
    "                if person_expenses.empty:\n",
    "                    print(\"No valid expenses data available for this person.\")\n",
    "                else:\n",
    "                    months = df['Month'].astype(str).iloc[person_expenses.index]\n",
    "                    plt.figure(figsize=(10, 6))\n",
    "                    plt.bar(months, person_expenses, color='blue', label=f'{person} Expenses')\n",
    "                    plt.xlabel('Months')\n",
    "                    plt.ylabel('Amount (₹)')\n",
    "                    plt.title(f'{person} - Monthly Expenses Bar Chart (Excluding Total and Average)')\n",
    "                    plt.legend()\n",
    "                    plt.show()\n",
    "            else:\n",
    "                print(\"Invalid person name! Please enter a valid name.\")\n",
    "\n",
    "        elif choice == '5':\n",
    "            print(\"\\n--- Financial Summary Table ---\")\n",
    "            print(tabulate(financial_summary_table, headers=[\"Person\", \"Total Expenses (₹)\", \"Average Expenses (₹)\", \"Savings (₹)\"], tablefmt=\"pretty\"))\n",
    "\n",
    "        elif choice == '6':\n",
    "            print(\"Exiting the program...\")\n",
    "            break\n",
    "        else:\n",
    "            print(\"Invalid choice! Please enter 1, 2, 3, 4, 5, or 6.\")\n"
   ]
  }
 ],
 "metadata": {
  "kernelspec": {
   "display_name": "Python 3",
   "language": "python",
   "name": "python3"
  },
  "language_info": {
   "codemirror_mode": {
    "name": "ipython",
    "version": 3
   },
   "file_extension": ".py",
   "mimetype": "text/x-python",
   "name": "python",
   "nbconvert_exporter": "python",
   "pygments_lexer": "ipython3",
   "version": "3.11.9"
  }
 },
 "nbformat": 4,
 "nbformat_minor": 5
}
